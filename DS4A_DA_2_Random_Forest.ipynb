{
  "cells": [
    {
      "cell_type": "code",
      "execution_count": 3,
      "metadata": {
        "id": "UdjUcJ3LtNZf",
        "colab": {
          "base_uri": "https://localhost:8080/",
          "height": 0
        },
        "outputId": "cd31ed09-c32d-4462-c380-005eb2962d46"
      },
      "outputs": [
        {
          "output_type": "stream",
          "name": "stdout",
          "text": [
            "Drive already mounted at /content/drive; to attempt to forcibly remount, call drive.mount(\"/content/drive\", force_remount=True).\n"
          ]
        }
      ],
      "source": [
        "from google.colab import drive\n",
        "drive.mount('/content/drive')"
      ]
    },
    {
      "cell_type": "code",
      "execution_count": 4,
      "metadata": {
        "id": "EC4o3eMTtLct"
      },
      "outputs": [],
      "source": [
        "\n",
        "import pandas as pd\n",
        "\n",
        "df = pd.read_parquet('/content/drive/MyDrive/DS4A_dataset/credit_card_data_da.parquet', engine='pyarrow')\n",
        "df.to_csv('credit_card_data_da.csv')"
      ]
    },
    {
      "cell_type": "code",
      "execution_count": 5,
      "metadata": {
        "colab": {
          "base_uri": "https://localhost:8080/",
          "height": 0
        },
        "id": "N-maHeJHwevD",
        "outputId": "80ca1856-0d37-4f01-b23c-3b668064fc6b"
      },
      "outputs": [
        {
          "output_type": "stream",
          "name": "stdout",
          "text": [
            "<class 'pandas.core.frame.DataFrame'>\n",
            "Int64Index: 6877837 entries, 0 to 6877836\n",
            "Data columns (total 63 columns):\n",
            " #   Column                            Dtype         \n",
            "---  ------                            -----         \n",
            " 0   User                              int64         \n",
            " 1   Card                              int64         \n",
            " 2   Year                              int64         \n",
            " 3   Month                             int64         \n",
            " 4   Day                               int64         \n",
            " 5   Time                              object        \n",
            " 6   Amount                            float64       \n",
            " 7   Use Chip                          object        \n",
            " 8   Merchant Name                     int64         \n",
            " 9   Merchant City                     object        \n",
            " 10  Merchant State                    object        \n",
            " 11  Zip                               float64       \n",
            " 12  MCC                               int64         \n",
            " 13  Errors?                           object        \n",
            " 14  Is Fraud?                         object        \n",
            " 15  hour                              object        \n",
            " 16  minute                            object        \n",
            " 17  date                              datetime64[ns]\n",
            " 18  datetime                          datetime64[ns]\n",
            " 19  time_of_day                       object        \n",
            " 20  target                            int64         \n",
            " 21  charge_off                        float64       \n",
            " 22  merchant_city_rome                bool          \n",
            " 23  Person                            object        \n",
            " 24  Current Age                       int64         \n",
            " 25  Retirement Age                    int64         \n",
            " 26  Birth Year                        int64         \n",
            " 27  Birth Month                       int64         \n",
            " 28  Gender                            object        \n",
            " 29  Address                           object        \n",
            " 30  Apartment                         float64       \n",
            " 31  City                              object        \n",
            " 32  State                             object        \n",
            " 33  Zipcode                           int64         \n",
            " 34  Latitude                          float64       \n",
            " 35  Longitude                         float64       \n",
            " 36  Per Capita Income - Zipcode       float64       \n",
            " 37  Yearly Income - Person            float64       \n",
            " 38  Total Debt                        float64       \n",
            " 39  FICO Score                        int64         \n",
            " 40  Num Credit Cards                  int64         \n",
            " 41  personal_to_zipcode_income_diff   float64       \n",
            " 42  total_debt_personal_income_ratio  float64       \n",
            " 43  total_debt_cards_ratio            float64       \n",
            " 44  CARD INDEX                        int64         \n",
            " 45  Card Brand                        object        \n",
            " 46  Card Type                         object        \n",
            " 47  Card Number                       int64         \n",
            " 48  Expires                           object        \n",
            " 49  CVV                               int64         \n",
            " 50  Has Chip                          object        \n",
            " 51  Cards Issued                      int64         \n",
            " 52  Credit Limit                      float64       \n",
            " 53  Acct Open Date                    object        \n",
            " 54  Year PIN last Changed             int64         \n",
            " 55  Card on Dark Web                  object        \n",
            " 56  level_2                           int64         \n",
            " 57  rolling_charge_off                float64       \n",
            " 58  rolling_fraud_count               float64       \n",
            " 59  rolling_tran_count                float64       \n",
            " 60  rolling_tran_volume               float64       \n",
            " 61  transaction_count                 float64       \n",
            " 62  years_since_pin_change            int64         \n",
            "dtypes: bool(1), datetime64[ns](2), float64(18), int64(22), object(20)\n",
            "memory usage: 3.2+ GB\n"
          ]
        }
      ],
      "source": [
        "df.info()"
      ]
    },
    {
      "cell_type": "code",
      "execution_count": 6,
      "metadata": {
        "colab": {
          "base_uri": "https://localhost:8080/",
          "height": 638
        },
        "id": "Jzv52W2MxfqN",
        "outputId": "a90121da-65cd-4962-8a01-ed02cae4a7b6"
      },
      "outputs": [
        {
          "output_type": "execute_result",
          "data": {
            "text/plain": [
              "   User  Card  Year  Month  Day   Time  Amount            Use Chip  \\\n",
              "0     0     0  2016      1    3  10:48   66.48    Chip Transaction   \n",
              "1     0     0  2016      1    4  06:43   40.02    Chip Transaction   \n",
              "2     0     0  2016      1    7  09:30   54.11    Chip Transaction   \n",
              "3     0     0  2016      1    7  16:03   89.48    Chip Transaction   \n",
              "4     0     0  2016      1   10  06:38   29.15    Chip Transaction   \n",
              "5     0     0  2016      1   13  06:37  120.00    Chip Transaction   \n",
              "6     0     0  2016      1   13  13:52   56.87    Chip Transaction   \n",
              "7     0     0  2016      1   15  10:56    1.44    Chip Transaction   \n",
              "8     0     0  2016      1   18  16:57  102.90  Online Transaction   \n",
              "9     0     0  2016      1   19  06:58   41.61    Chip Transaction   \n",
              "\n",
              "         Merchant Name  Merchant City  ... Acct Open Date  \\\n",
              "0 -3345936507911876459       La Verne  ...        09/2002   \n",
              "1   -34551508091458520       La Verne  ...        09/2002   \n",
              "2  4055257078481058705       La Verne  ...        09/2002   \n",
              "3  3414527459579106770  Monterey Park  ...        09/2002   \n",
              "4 -5475680618560174533  Monterey Park  ...        09/2002   \n",
              "5 -4282466774399734331      Mira Loma  ...        09/2002   \n",
              "6  3527213246127876953       La Verne  ...        09/2002   \n",
              "7 -7232193519160172381       La Verne  ...        09/2002   \n",
              "8   208649686760524778         ONLINE  ...        09/2002   \n",
              "9  4060646732831064559       La Verne  ...        09/2002   \n",
              "\n",
              "   Year PIN last Changed  Card on Dark Web level_2 rolling_charge_off  \\\n",
              "0                   2008                No       0                NaN   \n",
              "1                   2008                No       1                0.0   \n",
              "2                   2008                No       2                0.0   \n",
              "3                   2008                No       2                0.0   \n",
              "4                   2008                No       3                0.0   \n",
              "5                   2008                No       4                0.0   \n",
              "6                   2008                No       4                0.0   \n",
              "7                   2008                No       5                0.0   \n",
              "8                   2008                No       6                0.0   \n",
              "9                   2008                No       7                0.0   \n",
              "\n",
              "  rolling_fraud_count rolling_tran_count rolling_tran_volume  \\\n",
              "0                 NaN                NaN                 NaN   \n",
              "1                 0.0              66.48               66.48   \n",
              "2                 0.0             106.50              106.50   \n",
              "3                 0.0             106.50              106.50   \n",
              "4                 0.0             250.09              250.09   \n",
              "5                 0.0             279.24              279.24   \n",
              "6                 0.0             279.24              279.24   \n",
              "7                 0.0             456.11              456.11   \n",
              "8                 0.0             457.55              457.55   \n",
              "9                 0.0             560.45              560.45   \n",
              "\n",
              "  transaction_count years_since_pin_change  \n",
              "0               NaN                      8  \n",
              "1               1.0                      8  \n",
              "2               2.0                      8  \n",
              "3               2.0                      8  \n",
              "4               4.0                      8  \n",
              "5               5.0                      8  \n",
              "6               5.0                      8  \n",
              "7               7.0                      8  \n",
              "8               8.0                      8  \n",
              "9               9.0                      8  \n",
              "\n",
              "[10 rows x 63 columns]"
            ],
            "text/html": [
              "\n",
              "  <div id=\"df-f1abf154-5516-4236-a49b-7f2b7674a09d\" class=\"colab-df-container\">\n",
              "    <div>\n",
              "<style scoped>\n",
              "    .dataframe tbody tr th:only-of-type {\n",
              "        vertical-align: middle;\n",
              "    }\n",
              "\n",
              "    .dataframe tbody tr th {\n",
              "        vertical-align: top;\n",
              "    }\n",
              "\n",
              "    .dataframe thead th {\n",
              "        text-align: right;\n",
              "    }\n",
              "</style>\n",
              "<table border=\"1\" class=\"dataframe\">\n",
              "  <thead>\n",
              "    <tr style=\"text-align: right;\">\n",
              "      <th></th>\n",
              "      <th>User</th>\n",
              "      <th>Card</th>\n",
              "      <th>Year</th>\n",
              "      <th>Month</th>\n",
              "      <th>Day</th>\n",
              "      <th>Time</th>\n",
              "      <th>Amount</th>\n",
              "      <th>Use Chip</th>\n",
              "      <th>Merchant Name</th>\n",
              "      <th>Merchant City</th>\n",
              "      <th>...</th>\n",
              "      <th>Acct Open Date</th>\n",
              "      <th>Year PIN last Changed</th>\n",
              "      <th>Card on Dark Web</th>\n",
              "      <th>level_2</th>\n",
              "      <th>rolling_charge_off</th>\n",
              "      <th>rolling_fraud_count</th>\n",
              "      <th>rolling_tran_count</th>\n",
              "      <th>rolling_tran_volume</th>\n",
              "      <th>transaction_count</th>\n",
              "      <th>years_since_pin_change</th>\n",
              "    </tr>\n",
              "  </thead>\n",
              "  <tbody>\n",
              "    <tr>\n",
              "      <th>0</th>\n",
              "      <td>0</td>\n",
              "      <td>0</td>\n",
              "      <td>2016</td>\n",
              "      <td>1</td>\n",
              "      <td>3</td>\n",
              "      <td>10:48</td>\n",
              "      <td>66.48</td>\n",
              "      <td>Chip Transaction</td>\n",
              "      <td>-3345936507911876459</td>\n",
              "      <td>La Verne</td>\n",
              "      <td>...</td>\n",
              "      <td>09/2002</td>\n",
              "      <td>2008</td>\n",
              "      <td>No</td>\n",
              "      <td>0</td>\n",
              "      <td>NaN</td>\n",
              "      <td>NaN</td>\n",
              "      <td>NaN</td>\n",
              "      <td>NaN</td>\n",
              "      <td>NaN</td>\n",
              "      <td>8</td>\n",
              "    </tr>\n",
              "    <tr>\n",
              "      <th>1</th>\n",
              "      <td>0</td>\n",
              "      <td>0</td>\n",
              "      <td>2016</td>\n",
              "      <td>1</td>\n",
              "      <td>4</td>\n",
              "      <td>06:43</td>\n",
              "      <td>40.02</td>\n",
              "      <td>Chip Transaction</td>\n",
              "      <td>-34551508091458520</td>\n",
              "      <td>La Verne</td>\n",
              "      <td>...</td>\n",
              "      <td>09/2002</td>\n",
              "      <td>2008</td>\n",
              "      <td>No</td>\n",
              "      <td>1</td>\n",
              "      <td>0.0</td>\n",
              "      <td>0.0</td>\n",
              "      <td>66.48</td>\n",
              "      <td>66.48</td>\n",
              "      <td>1.0</td>\n",
              "      <td>8</td>\n",
              "    </tr>\n",
              "    <tr>\n",
              "      <th>2</th>\n",
              "      <td>0</td>\n",
              "      <td>0</td>\n",
              "      <td>2016</td>\n",
              "      <td>1</td>\n",
              "      <td>7</td>\n",
              "      <td>09:30</td>\n",
              "      <td>54.11</td>\n",
              "      <td>Chip Transaction</td>\n",
              "      <td>4055257078481058705</td>\n",
              "      <td>La Verne</td>\n",
              "      <td>...</td>\n",
              "      <td>09/2002</td>\n",
              "      <td>2008</td>\n",
              "      <td>No</td>\n",
              "      <td>2</td>\n",
              "      <td>0.0</td>\n",
              "      <td>0.0</td>\n",
              "      <td>106.50</td>\n",
              "      <td>106.50</td>\n",
              "      <td>2.0</td>\n",
              "      <td>8</td>\n",
              "    </tr>\n",
              "    <tr>\n",
              "      <th>3</th>\n",
              "      <td>0</td>\n",
              "      <td>0</td>\n",
              "      <td>2016</td>\n",
              "      <td>1</td>\n",
              "      <td>7</td>\n",
              "      <td>16:03</td>\n",
              "      <td>89.48</td>\n",
              "      <td>Chip Transaction</td>\n",
              "      <td>3414527459579106770</td>\n",
              "      <td>Monterey Park</td>\n",
              "      <td>...</td>\n",
              "      <td>09/2002</td>\n",
              "      <td>2008</td>\n",
              "      <td>No</td>\n",
              "      <td>2</td>\n",
              "      <td>0.0</td>\n",
              "      <td>0.0</td>\n",
              "      <td>106.50</td>\n",
              "      <td>106.50</td>\n",
              "      <td>2.0</td>\n",
              "      <td>8</td>\n",
              "    </tr>\n",
              "    <tr>\n",
              "      <th>4</th>\n",
              "      <td>0</td>\n",
              "      <td>0</td>\n",
              "      <td>2016</td>\n",
              "      <td>1</td>\n",
              "      <td>10</td>\n",
              "      <td>06:38</td>\n",
              "      <td>29.15</td>\n",
              "      <td>Chip Transaction</td>\n",
              "      <td>-5475680618560174533</td>\n",
              "      <td>Monterey Park</td>\n",
              "      <td>...</td>\n",
              "      <td>09/2002</td>\n",
              "      <td>2008</td>\n",
              "      <td>No</td>\n",
              "      <td>3</td>\n",
              "      <td>0.0</td>\n",
              "      <td>0.0</td>\n",
              "      <td>250.09</td>\n",
              "      <td>250.09</td>\n",
              "      <td>4.0</td>\n",
              "      <td>8</td>\n",
              "    </tr>\n",
              "    <tr>\n",
              "      <th>5</th>\n",
              "      <td>0</td>\n",
              "      <td>0</td>\n",
              "      <td>2016</td>\n",
              "      <td>1</td>\n",
              "      <td>13</td>\n",
              "      <td>06:37</td>\n",
              "      <td>120.00</td>\n",
              "      <td>Chip Transaction</td>\n",
              "      <td>-4282466774399734331</td>\n",
              "      <td>Mira Loma</td>\n",
              "      <td>...</td>\n",
              "      <td>09/2002</td>\n",
              "      <td>2008</td>\n",
              "      <td>No</td>\n",
              "      <td>4</td>\n",
              "      <td>0.0</td>\n",
              "      <td>0.0</td>\n",
              "      <td>279.24</td>\n",
              "      <td>279.24</td>\n",
              "      <td>5.0</td>\n",
              "      <td>8</td>\n",
              "    </tr>\n",
              "    <tr>\n",
              "      <th>6</th>\n",
              "      <td>0</td>\n",
              "      <td>0</td>\n",
              "      <td>2016</td>\n",
              "      <td>1</td>\n",
              "      <td>13</td>\n",
              "      <td>13:52</td>\n",
              "      <td>56.87</td>\n",
              "      <td>Chip Transaction</td>\n",
              "      <td>3527213246127876953</td>\n",
              "      <td>La Verne</td>\n",
              "      <td>...</td>\n",
              "      <td>09/2002</td>\n",
              "      <td>2008</td>\n",
              "      <td>No</td>\n",
              "      <td>4</td>\n",
              "      <td>0.0</td>\n",
              "      <td>0.0</td>\n",
              "      <td>279.24</td>\n",
              "      <td>279.24</td>\n",
              "      <td>5.0</td>\n",
              "      <td>8</td>\n",
              "    </tr>\n",
              "    <tr>\n",
              "      <th>7</th>\n",
              "      <td>0</td>\n",
              "      <td>0</td>\n",
              "      <td>2016</td>\n",
              "      <td>1</td>\n",
              "      <td>15</td>\n",
              "      <td>10:56</td>\n",
              "      <td>1.44</td>\n",
              "      <td>Chip Transaction</td>\n",
              "      <td>-7232193519160172381</td>\n",
              "      <td>La Verne</td>\n",
              "      <td>...</td>\n",
              "      <td>09/2002</td>\n",
              "      <td>2008</td>\n",
              "      <td>No</td>\n",
              "      <td>5</td>\n",
              "      <td>0.0</td>\n",
              "      <td>0.0</td>\n",
              "      <td>456.11</td>\n",
              "      <td>456.11</td>\n",
              "      <td>7.0</td>\n",
              "      <td>8</td>\n",
              "    </tr>\n",
              "    <tr>\n",
              "      <th>8</th>\n",
              "      <td>0</td>\n",
              "      <td>0</td>\n",
              "      <td>2016</td>\n",
              "      <td>1</td>\n",
              "      <td>18</td>\n",
              "      <td>16:57</td>\n",
              "      <td>102.90</td>\n",
              "      <td>Online Transaction</td>\n",
              "      <td>208649686760524778</td>\n",
              "      <td>ONLINE</td>\n",
              "      <td>...</td>\n",
              "      <td>09/2002</td>\n",
              "      <td>2008</td>\n",
              "      <td>No</td>\n",
              "      <td>6</td>\n",
              "      <td>0.0</td>\n",
              "      <td>0.0</td>\n",
              "      <td>457.55</td>\n",
              "      <td>457.55</td>\n",
              "      <td>8.0</td>\n",
              "      <td>8</td>\n",
              "    </tr>\n",
              "    <tr>\n",
              "      <th>9</th>\n",
              "      <td>0</td>\n",
              "      <td>0</td>\n",
              "      <td>2016</td>\n",
              "      <td>1</td>\n",
              "      <td>19</td>\n",
              "      <td>06:58</td>\n",
              "      <td>41.61</td>\n",
              "      <td>Chip Transaction</td>\n",
              "      <td>4060646732831064559</td>\n",
              "      <td>La Verne</td>\n",
              "      <td>...</td>\n",
              "      <td>09/2002</td>\n",
              "      <td>2008</td>\n",
              "      <td>No</td>\n",
              "      <td>7</td>\n",
              "      <td>0.0</td>\n",
              "      <td>0.0</td>\n",
              "      <td>560.45</td>\n",
              "      <td>560.45</td>\n",
              "      <td>9.0</td>\n",
              "      <td>8</td>\n",
              "    </tr>\n",
              "  </tbody>\n",
              "</table>\n",
              "<p>10 rows × 63 columns</p>\n",
              "</div>\n",
              "    <div class=\"colab-df-buttons\">\n",
              "\n",
              "  <div class=\"colab-df-container\">\n",
              "    <button class=\"colab-df-convert\" onclick=\"convertToInteractive('df-f1abf154-5516-4236-a49b-7f2b7674a09d')\"\n",
              "            title=\"Convert this dataframe to an interactive table.\"\n",
              "            style=\"display:none;\">\n",
              "\n",
              "  <svg xmlns=\"http://www.w3.org/2000/svg\" height=\"24px\" viewBox=\"0 -960 960 960\">\n",
              "    <path d=\"M120-120v-720h720v720H120Zm60-500h600v-160H180v160Zm220 220h160v-160H400v160Zm0 220h160v-160H400v160ZM180-400h160v-160H180v160Zm440 0h160v-160H620v160ZM180-180h160v-160H180v160Zm440 0h160v-160H620v160Z\"/>\n",
              "  </svg>\n",
              "    </button>\n",
              "\n",
              "  <style>\n",
              "    .colab-df-container {\n",
              "      display:flex;\n",
              "      gap: 12px;\n",
              "    }\n",
              "\n",
              "    .colab-df-convert {\n",
              "      background-color: #E8F0FE;\n",
              "      border: none;\n",
              "      border-radius: 50%;\n",
              "      cursor: pointer;\n",
              "      display: none;\n",
              "      fill: #1967D2;\n",
              "      height: 32px;\n",
              "      padding: 0 0 0 0;\n",
              "      width: 32px;\n",
              "    }\n",
              "\n",
              "    .colab-df-convert:hover {\n",
              "      background-color: #E2EBFA;\n",
              "      box-shadow: 0px 1px 2px rgba(60, 64, 67, 0.3), 0px 1px 3px 1px rgba(60, 64, 67, 0.15);\n",
              "      fill: #174EA6;\n",
              "    }\n",
              "\n",
              "    .colab-df-buttons div {\n",
              "      margin-bottom: 4px;\n",
              "    }\n",
              "\n",
              "    [theme=dark] .colab-df-convert {\n",
              "      background-color: #3B4455;\n",
              "      fill: #D2E3FC;\n",
              "    }\n",
              "\n",
              "    [theme=dark] .colab-df-convert:hover {\n",
              "      background-color: #434B5C;\n",
              "      box-shadow: 0px 1px 3px 1px rgba(0, 0, 0, 0.15);\n",
              "      filter: drop-shadow(0px 1px 2px rgba(0, 0, 0, 0.3));\n",
              "      fill: #FFFFFF;\n",
              "    }\n",
              "  </style>\n",
              "\n",
              "    <script>\n",
              "      const buttonEl =\n",
              "        document.querySelector('#df-f1abf154-5516-4236-a49b-7f2b7674a09d button.colab-df-convert');\n",
              "      buttonEl.style.display =\n",
              "        google.colab.kernel.accessAllowed ? 'block' : 'none';\n",
              "\n",
              "      async function convertToInteractive(key) {\n",
              "        const element = document.querySelector('#df-f1abf154-5516-4236-a49b-7f2b7674a09d');\n",
              "        const dataTable =\n",
              "          await google.colab.kernel.invokeFunction('convertToInteractive',\n",
              "                                                    [key], {});\n",
              "        if (!dataTable) return;\n",
              "\n",
              "        const docLinkHtml = 'Like what you see? Visit the ' +\n",
              "          '<a target=\"_blank\" href=https://colab.research.google.com/notebooks/data_table.ipynb>data table notebook</a>'\n",
              "          + ' to learn more about interactive tables.';\n",
              "        element.innerHTML = '';\n",
              "        dataTable['output_type'] = 'display_data';\n",
              "        await google.colab.output.renderOutput(dataTable, element);\n",
              "        const docLink = document.createElement('div');\n",
              "        docLink.innerHTML = docLinkHtml;\n",
              "        element.appendChild(docLink);\n",
              "      }\n",
              "    </script>\n",
              "  </div>\n",
              "\n",
              "\n",
              "<div id=\"df-31196d88-f6bf-4352-bf29-4fdb8956f0d9\">\n",
              "  <button class=\"colab-df-quickchart\" onclick=\"quickchart('df-31196d88-f6bf-4352-bf29-4fdb8956f0d9')\"\n",
              "            title=\"Suggest charts.\"\n",
              "            style=\"display:none;\">\n",
              "\n",
              "<svg xmlns=\"http://www.w3.org/2000/svg\" height=\"24px\"viewBox=\"0 0 24 24\"\n",
              "     width=\"24px\">\n",
              "    <g>\n",
              "        <path d=\"M19 3H5c-1.1 0-2 .9-2 2v14c0 1.1.9 2 2 2h14c1.1 0 2-.9 2-2V5c0-1.1-.9-2-2-2zM9 17H7v-7h2v7zm4 0h-2V7h2v10zm4 0h-2v-4h2v4z\"/>\n",
              "    </g>\n",
              "</svg>\n",
              "  </button>\n",
              "\n",
              "<style>\n",
              "  .colab-df-quickchart {\n",
              "      --bg-color: #E8F0FE;\n",
              "      --fill-color: #1967D2;\n",
              "      --hover-bg-color: #E2EBFA;\n",
              "      --hover-fill-color: #174EA6;\n",
              "      --disabled-fill-color: #AAA;\n",
              "      --disabled-bg-color: #DDD;\n",
              "  }\n",
              "\n",
              "  [theme=dark] .colab-df-quickchart {\n",
              "      --bg-color: #3B4455;\n",
              "      --fill-color: #D2E3FC;\n",
              "      --hover-bg-color: #434B5C;\n",
              "      --hover-fill-color: #FFFFFF;\n",
              "      --disabled-bg-color: #3B4455;\n",
              "      --disabled-fill-color: #666;\n",
              "  }\n",
              "\n",
              "  .colab-df-quickchart {\n",
              "    background-color: var(--bg-color);\n",
              "    border: none;\n",
              "    border-radius: 50%;\n",
              "    cursor: pointer;\n",
              "    display: none;\n",
              "    fill: var(--fill-color);\n",
              "    height: 32px;\n",
              "    padding: 0;\n",
              "    width: 32px;\n",
              "  }\n",
              "\n",
              "  .colab-df-quickchart:hover {\n",
              "    background-color: var(--hover-bg-color);\n",
              "    box-shadow: 0 1px 2px rgba(60, 64, 67, 0.3), 0 1px 3px 1px rgba(60, 64, 67, 0.15);\n",
              "    fill: var(--button-hover-fill-color);\n",
              "  }\n",
              "\n",
              "  .colab-df-quickchart-complete:disabled,\n",
              "  .colab-df-quickchart-complete:disabled:hover {\n",
              "    background-color: var(--disabled-bg-color);\n",
              "    fill: var(--disabled-fill-color);\n",
              "    box-shadow: none;\n",
              "  }\n",
              "\n",
              "  .colab-df-spinner {\n",
              "    border: 2px solid var(--fill-color);\n",
              "    border-color: transparent;\n",
              "    border-bottom-color: var(--fill-color);\n",
              "    animation:\n",
              "      spin 1s steps(1) infinite;\n",
              "  }\n",
              "\n",
              "  @keyframes spin {\n",
              "    0% {\n",
              "      border-color: transparent;\n",
              "      border-bottom-color: var(--fill-color);\n",
              "      border-left-color: var(--fill-color);\n",
              "    }\n",
              "    20% {\n",
              "      border-color: transparent;\n",
              "      border-left-color: var(--fill-color);\n",
              "      border-top-color: var(--fill-color);\n",
              "    }\n",
              "    30% {\n",
              "      border-color: transparent;\n",
              "      border-left-color: var(--fill-color);\n",
              "      border-top-color: var(--fill-color);\n",
              "      border-right-color: var(--fill-color);\n",
              "    }\n",
              "    40% {\n",
              "      border-color: transparent;\n",
              "      border-right-color: var(--fill-color);\n",
              "      border-top-color: var(--fill-color);\n",
              "    }\n",
              "    60% {\n",
              "      border-color: transparent;\n",
              "      border-right-color: var(--fill-color);\n",
              "    }\n",
              "    80% {\n",
              "      border-color: transparent;\n",
              "      border-right-color: var(--fill-color);\n",
              "      border-bottom-color: var(--fill-color);\n",
              "    }\n",
              "    90% {\n",
              "      border-color: transparent;\n",
              "      border-bottom-color: var(--fill-color);\n",
              "    }\n",
              "  }\n",
              "</style>\n",
              "\n",
              "  <script>\n",
              "    async function quickchart(key) {\n",
              "      const quickchartButtonEl =\n",
              "        document.querySelector('#' + key + ' button');\n",
              "      quickchartButtonEl.disabled = true;  // To prevent multiple clicks.\n",
              "      quickchartButtonEl.classList.add('colab-df-spinner');\n",
              "      try {\n",
              "        const charts = await google.colab.kernel.invokeFunction(\n",
              "            'suggestCharts', [key], {});\n",
              "      } catch (error) {\n",
              "        console.error('Error during call to suggestCharts:', error);\n",
              "      }\n",
              "      quickchartButtonEl.classList.remove('colab-df-spinner');\n",
              "      quickchartButtonEl.classList.add('colab-df-quickchart-complete');\n",
              "    }\n",
              "    (() => {\n",
              "      let quickchartButtonEl =\n",
              "        document.querySelector('#df-31196d88-f6bf-4352-bf29-4fdb8956f0d9 button');\n",
              "      quickchartButtonEl.style.display =\n",
              "        google.colab.kernel.accessAllowed ? 'block' : 'none';\n",
              "    })();\n",
              "  </script>\n",
              "</div>\n",
              "    </div>\n",
              "  </div>\n"
            ]
          },
          "metadata": {},
          "execution_count": 6
        }
      ],
      "source": [
        "df.head(10)"
      ]
    },
    {
      "cell_type": "code",
      "execution_count": 7,
      "metadata": {
        "colab": {
          "base_uri": "https://localhost:8080/",
          "height": 0
        },
        "id": "SLMqMYaRtkYw",
        "outputId": "59b2ea95-7422-4e0e-a48b-b25d6d49bfeb"
      },
      "outputs": [
        {
          "output_type": "execute_result",
          "data": {
            "text/plain": [
              "User                         0\n",
              "Card                         0\n",
              "Year                         0\n",
              "Month                        0\n",
              "Day                          0\n",
              "                          ... \n",
              "rolling_fraud_count       8469\n",
              "rolling_tran_count        8469\n",
              "rolling_tran_volume       8469\n",
              "transaction_count         8469\n",
              "years_since_pin_change       0\n",
              "Length: 63, dtype: int64"
            ]
          },
          "metadata": {},
          "execution_count": 7
        }
      ],
      "source": [
        "df.isnull().sum()\n"
      ]
    },
    {
      "cell_type": "code",
      "execution_count": 8,
      "metadata": {
        "colab": {
          "base_uri": "https://localhost:8080/",
          "height": 0
        },
        "id": "2EFar289oiUu",
        "outputId": "b1180ea4-19d5-4d60-90ad-85bf13194b60"
      },
      "outputs": [
        {
          "output_type": "execute_result",
          "data": {
            "text/plain": [
              "No     6869425\n",
              "Yes       8412\n",
              "Name: Is Fraud?, dtype: int64"
            ]
          },
          "metadata": {},
          "execution_count": 8
        }
      ],
      "source": [
        "df[\"Is Fraud?\"].value_counts()"
      ]
    },
    {
      "cell_type": "code",
      "execution_count": 9,
      "metadata": {
        "id": "g3H8PMilTFu6"
      },
      "outputs": [],
      "source": [
        "# Subset specific columns\n",
        "columns_to_select = ['Year', 'Day', 'hour', 'Amount', 'Use Chip', 'Merchant Name', 'MCC', 'Is Fraud?']\n",
        "df = df[columns_to_select]"
      ]
    },
    {
      "cell_type": "code",
      "execution_count": 10,
      "metadata": {
        "id": "2VRME19EZCdE"
      },
      "outputs": [],
      "source": [
        "# Replacing values in the \"Is Fraud?\" column\n",
        "df['Is Fraud?'] = df['Is Fraud?'].map({'No': 0, 'Yes': 1})"
      ]
    },
    {
      "cell_type": "code",
      "execution_count": 11,
      "metadata": {
        "colab": {
          "base_uri": "https://localhost:8080/",
          "height": 0
        },
        "id": "OLXe77mxULzX",
        "outputId": "9b2a5c9e-d6a3-4c5a-abea-177bf9462eeb"
      },
      "outputs": [
        {
          "output_type": "stream",
          "name": "stdout",
          "text": [
            "Collecting category_encoders\n",
            "  Downloading category_encoders-2.6.3-py2.py3-none-any.whl (81 kB)\n",
            "\u001b[2K     \u001b[90m━━━━━━━━━━━━━━━━━━━━━━━━━━━━━━━━━━━━━━━━\u001b[0m \u001b[32m81.9/81.9 kB\u001b[0m \u001b[31m1.4 MB/s\u001b[0m eta \u001b[36m0:00:00\u001b[0m\n",
            "\u001b[?25hRequirement already satisfied: numpy>=1.14.0 in /usr/local/lib/python3.10/dist-packages (from category_encoders) (1.23.5)\n",
            "Requirement already satisfied: scikit-learn>=0.20.0 in /usr/local/lib/python3.10/dist-packages (from category_encoders) (1.2.2)\n",
            "Requirement already satisfied: scipy>=1.0.0 in /usr/local/lib/python3.10/dist-packages (from category_encoders) (1.11.3)\n",
            "Requirement already satisfied: statsmodels>=0.9.0 in /usr/local/lib/python3.10/dist-packages (from category_encoders) (0.14.0)\n",
            "Requirement already satisfied: pandas>=1.0.5 in /usr/local/lib/python3.10/dist-packages (from category_encoders) (1.5.3)\n",
            "Requirement already satisfied: patsy>=0.5.1 in /usr/local/lib/python3.10/dist-packages (from category_encoders) (0.5.3)\n",
            "Requirement already satisfied: python-dateutil>=2.8.1 in /usr/local/lib/python3.10/dist-packages (from pandas>=1.0.5->category_encoders) (2.8.2)\n",
            "Requirement already satisfied: pytz>=2020.1 in /usr/local/lib/python3.10/dist-packages (from pandas>=1.0.5->category_encoders) (2023.3.post1)\n",
            "Requirement already satisfied: six in /usr/local/lib/python3.10/dist-packages (from patsy>=0.5.1->category_encoders) (1.16.0)\n",
            "Requirement already satisfied: joblib>=1.1.1 in /usr/local/lib/python3.10/dist-packages (from scikit-learn>=0.20.0->category_encoders) (1.3.2)\n",
            "Requirement already satisfied: threadpoolctl>=2.0.0 in /usr/local/lib/python3.10/dist-packages (from scikit-learn>=0.20.0->category_encoders) (3.2.0)\n",
            "Requirement already satisfied: packaging>=21.3 in /usr/local/lib/python3.10/dist-packages (from statsmodels>=0.9.0->category_encoders) (23.2)\n",
            "Installing collected packages: category_encoders\n",
            "Successfully installed category_encoders-2.6.3\n"
          ]
        }
      ],
      "source": [
        "!pip install category_encoders"
      ]
    },
    {
      "cell_type": "code",
      "execution_count": 12,
      "metadata": {
        "id": "S_tYMSeQV5da"
      },
      "outputs": [],
      "source": [
        "from sklearn.pipeline import Pipeline\n",
        "from sklearn.metrics import confusion_matrix\n",
        "from sklearn.metrics import classification_report\n",
        "from sklearn.model_selection import train_test_split\n",
        "from sklearn.preprocessing import FunctionTransformer, LabelEncoder, OneHotEncoder\n",
        "from imblearn.under_sampling import RandomUnderSampler\n",
        "import matplotlib.pyplot as plt\n",
        "import xgboost as xgb\n",
        "from sklearn.model_selection import GridSearchCV\n",
        "from category_encoders.binary import BinaryEncoder"
      ]
    },
    {
      "cell_type": "code",
      "execution_count": 13,
      "metadata": {
        "colab": {
          "base_uri": "https://localhost:8080/",
          "height": 0
        },
        "id": "d6KIrFBUTp56",
        "outputId": "b3eb7b04-4611-43ca-9966-6a5330460056"
      },
      "outputs": [
        {
          "output_type": "stream",
          "name": "stdout",
          "text": [
            "Warning: No categorical columns found. Calling 'transform' will only return input data.\n",
            "[Pipeline] .......... (step 1 of 1) Processing cleaning, total=  15.7s\n"
          ]
        }
      ],
      "source": [
        "\n",
        "from sklearn.preprocessing import StandardScaler\n",
        "import category_encoders as ce\n",
        "\n",
        "def clean(df):\n",
        "    # Convert data type\n",
        "    df['hour'] = df['hour'].astype('float')\n",
        "\n",
        "    # Scale the \"Amount\" column\n",
        "    scaler = StandardScaler()\n",
        "    df['Amount'] = scaler.fit_transform(df[['Amount']])\n",
        "\n",
        "    # Binary encoding for categorical variables\n",
        "    cat_col = ['Use Chip', 'Day']\n",
        "    for col in cat_col:\n",
        "        if col in df.columns:\n",
        "            be = ce.BinaryEncoder(drop_invariant=False)\n",
        "            enc_df = pd.DataFrame(be.fit_transform(df[col]), dtype='int8')\n",
        "            df = pd.concat([df, enc_df], axis=1)\n",
        "            df.drop([col], axis=1, inplace=True)\n",
        "\n",
        "    for col in df.columns:\n",
        "        df[col] = df[col].astype(float)\n",
        "\n",
        "    return df\n",
        "\n",
        "# Create the pipeline\n",
        "preprocessing_pipeline = Pipeline([\n",
        "    ('cleaning', FunctionTransformer(clean, validate=False)),\n",
        "], verbose=True)\n",
        "\n",
        "df_transformed = preprocessing_pipeline.fit_transform(df)"
      ]
    },
    {
      "cell_type": "markdown",
      "source": [
        "Under sampling\n",
        "\n",
        "Due to limitation of computational capacity, I subset 40000 data with 20% of them being fraud cases in order to balance the proportion and ensure model performance."
      ],
      "metadata": {
        "id": "EnvcCJbdxuJ6"
      }
    },
    {
      "cell_type": "code",
      "execution_count": 14,
      "metadata": {
        "id": "UjkvwUloaYpV"
      },
      "outputs": [],
      "source": [
        "from imblearn.under_sampling import RandomUnderSampler\n",
        "from sklearn.model_selection import train_test_split\n",
        "\n",
        "# Split the dataset into features (X) and target variable (y)\n",
        "X = df_transformed.drop(columns=['Is Fraud?'])\n",
        "y = df_transformed['Is Fraud?']\n",
        "\n",
        "# Calculate the desired number of fraud cases based on the desired proportion\n",
        "desired_proportion = 0.2\n",
        "total_samples = 40000\n",
        "fraud_samples = int(total_samples * desired_proportion)\n",
        "\n",
        "# Create RandomUnderSampler with the desired sampling strategy\n",
        "rus = RandomUnderSampler(sampling_strategy={0: total_samples - fraud_samples, 1: fraud_samples}, random_state=1613)\n",
        "\n",
        "# Apply random undersampling to the original dataset\n",
        "X_resampled, y_resampled = rus.fit_resample(X, y)\n",
        "\n",
        "# Split the resampled data into train and test sets\n",
        "X_train, X_test, y_train, y_test = train_test_split(X_resampled, y_resampled, test_size=0.3, random_state=1613)"
      ]
    },
    {
      "cell_type": "markdown",
      "source": [
        "Predictive Modeling with Random Forest"
      ],
      "metadata": {
        "id": "l0w_HNElxzvs"
      }
    },
    {
      "cell_type": "code",
      "execution_count": 15,
      "metadata": {
        "colab": {
          "base_uri": "https://localhost:8080/",
          "height": 0
        },
        "id": "smgO1LiZaQqt",
        "outputId": "1b8cc547-a600-44ab-a93d-f7da3197e90c"
      },
      "outputs": [
        {
          "output_type": "stream",
          "name": "stdout",
          "text": [
            "Random Forest Classifier Results:\n",
            "              precision    recall  f1-score   support\n",
            "\n",
            "         0.0       0.96      0.98      0.97      9608\n",
            "         1.0       0.91      0.83      0.87      2392\n",
            "\n",
            "    accuracy                           0.95     12000\n",
            "   macro avg       0.94      0.91      0.92     12000\n",
            "weighted avg       0.95      0.95      0.95     12000\n",
            "\n",
            "[[9417  191]\n",
            " [ 404 1988]]\n"
          ]
        }
      ],
      "source": [
        "# Modeling with Random Forest\n",
        "from sklearn.ensemble import RandomForestClassifier\n",
        "\n",
        "rf_classifier = RandomForestClassifier(n_estimators=100, random_state=42)\n",
        "rf_classifier.fit(X_train, y_train)\n",
        "\n",
        "y_pred_rf = rf_classifier.predict(X_test)\n",
        "\n",
        "print(\"Random Forest Classifier Results:\")\n",
        "print(classification_report(y_test, y_pred_rf))\n",
        "print(confusion_matrix(y_test, y_pred_rf))"
      ]
    },
    {
      "cell_type": "code",
      "execution_count": 16,
      "metadata": {
        "colab": {
          "base_uri": "https://localhost:8080/",
          "height": 0
        },
        "id": "WDqFLCfNaiz1",
        "outputId": "c6120e5e-5afd-4193-9cf4-f6f14b32424c"
      },
      "outputs": [
        {
          "output_type": "stream",
          "name": "stdout",
          "text": [
            "Best hyperparameters: {'bootstrap': False, 'max_depth': 20, 'max_features': 'sqrt', 'min_samples_leaf': 1, 'min_samples_split': 5, 'n_estimators': 100}\n",
            "Random Forest Classifier Results with Best Hyperparameters:\n",
            "              precision    recall  f1-score   support\n",
            "\n",
            "         0.0       0.96      0.98      0.97      9608\n",
            "         1.0       0.92      0.83      0.88      2392\n",
            "\n",
            "    accuracy                           0.95     12000\n",
            "   macro avg       0.94      0.91      0.92     12000\n",
            "weighted avg       0.95      0.95      0.95     12000\n",
            "\n",
            "[[9445  163]\n",
            " [ 399 1993]]\n"
          ]
        }
      ],
      "source": [
        "# Hyperparameters Tuning\n",
        "import warnings\n",
        "from sklearn.model_selection import GridSearchCV\n",
        "from sklearn.ensemble import RandomForestClassifier\n",
        "from sklearn.metrics import classification_report, confusion_matrix\n",
        "\n",
        "# Suppress all warnings\n",
        "warnings.simplefilter(\"ignore\")\n",
        "\n",
        "# Define the hyperparameters\n",
        "param_grid = {\n",
        "    'n_estimators': [50, 100, 200],\n",
        "    'max_depth': [None, 10, 20, 30],\n",
        "    'max_features': ['sqrt', 'log2'],  # Removed 'auto' and kept 'sqrt'\n",
        "    'min_samples_split': [2, 5, 10],\n",
        "    'min_samples_leaf': [1, 2, 4],\n",
        "    'bootstrap': [True, False]\n",
        "}\n",
        "\n",
        "# Create a RandomForestClassifier model\n",
        "rf = RandomForestClassifier(random_state=42)\n",
        "\n",
        "# GridSearchCV\n",
        "grid_search = GridSearchCV(estimator=rf, param_grid=param_grid,\n",
        "                           cv=3, n_jobs=-1, verbose=0, scoring='f1_macro')\n",
        "\n",
        "grid_search.fit(X_train, y_train)\n",
        "\n",
        "# Get the best hyperparameters\n",
        "best_params = grid_search.best_params_\n",
        "print(\"Best hyperparameters:\", best_params)\n",
        "\n",
        "# Use the best estimator for predictions or further work\n",
        "best_rf = grid_search.best_estimator_\n",
        "\n",
        "y_pred_best_rf = best_rf.predict(X_test)\n",
        "\n",
        "print(\"Random Forest Classifier Results with Best Hyperparameters:\")\n",
        "print(classification_report(y_test, y_pred_best_rf))\n",
        "print(confusion_matrix(y_test, y_pred_best_rf))"
      ]
    },
    {
      "cell_type": "code",
      "execution_count": 25,
      "metadata": {
        "id": "CsWZXbCVxW_z",
        "colab": {
          "base_uri": "https://localhost:8080/",
          "height": 472
        },
        "outputId": "9de97368-13a0-4902-e170-3949563f4e58"
      },
      "outputs": [
        {
          "output_type": "display_data",
          "data": {
            "text/plain": [
              "<Figure size 640x480 with 2 Axes>"
            ],
            "image/png": "[encoded data removed]"
          },
          "metadata": {}
        }
      ],
      "source": [
        "import seaborn as sns\n",
        "import matplotlib.pyplot as plt\n",
        "\n",
        "ax= plt.subplot()\n",
        "sns.heatmap(confusion_matrix(y_test, y_pred_best_rf), annot=True, fmt='g', ax=ax);  #annot=True to annotate cells, ftm='g' to disable scientific notation\n",
        "# labels, title and ticks\n",
        "ax.set_xlabel('Predicted labels');ax.set_ylabel('True labels');\n",
        "ax.set_title('Confusion Matrix');\n",
        "ax.xaxis.set_ticklabels(['No Fraud', 'Yes Fraud']); ax.yaxis.set_ticklabels(['No Fraud', 'Yes Fraud']);"
      ]
    },
    {
      "cell_type": "code",
      "execution_count": 18,
      "metadata": {
        "id": "4PUR0NYEvSWC"
      },
      "outputs": [],
      "source": [
        "from sklearn.metrics import confusion_matrix"
      ]
    },
    {
      "cell_type": "code",
      "execution_count": 22,
      "metadata": {
        "id": "xvDXLLfksBlL",
        "colab": {
          "base_uri": "https://localhost:8080/",
          "height": 447
        },
        "outputId": "919addf4-741e-4a22-8125-6959ab1cf2c3"
      },
      "outputs": [
        {
          "output_type": "execute_result",
          "data": {
            "text/plain": [
              "<Axes: >"
            ]
          },
          "metadata": {},
          "execution_count": 22
        },
        {
          "output_type": "display_data",
          "data": {
            "text/plain": [
              "<Figure size 640x480 with 2 Axes>"
            ],
            "image/png": "[encoded data removed]"
          },
          "metadata": {}
        }
      ],
      "source": [
        "sns.heatmap(confusion_matrix(y_test, y_pred_best_rf), square=True, annot=True, cmap='Blues', fmt='d', cbar=True)\n",
        "#agregar labels and tittle"
      ]
    },
    {
      "cell_type": "markdown",
      "metadata": {
        "id": "rulEem_karmV"
      },
      "source": [
        "Interpretation:\n",
        "\n",
        "Precision: A precision of 0.92 for class 1 means that 92% of the predicted fraud cases were actually fraudulent.\n",
        "\n",
        "Recall: A recall of 0.83 for class 1 means that the model identified 83% of the actual fraudulent transactions.\n",
        "\n",
        "F1-score: A F1-score of 0.88 indicates a good balance between precision and recall.\n",
        "\n",
        "In summary, the model achieved high accuracy (95%) and performed well in classifying non-fraudulent transactions (class 0). However, it showed relatively higher recall (98%) for fraudulent transactions (class 1), indicating that it missed some fraudulent cases. Overall, the model demonstrates a good performance but could be further improved to better detect fraud cases."
      ]
    },
    {
      "cell_type": "code",
      "execution_count": 20,
      "metadata": {
        "id": "yo64a6ZRaslr",
        "colab": {
          "base_uri": "https://localhost:8080/",
          "height": 641
        },
        "outputId": "600d0c98-17ab-41a9-a08b-9c0177719659"
      },
      "outputs": [
        {
          "output_type": "display_data",
          "data": {
            "text/plain": [
              "<Figure size 1000x700 with 1 Axes>"
            ],
            "image/png": "[encoded data removed]"
          },
          "metadata": {}
        }
      ],
      "source": [
        "# Extract feature importances from the best random forest model\n",
        "feature_importance = best_rf.feature_importances_\n",
        "features = X_train.columns\n",
        "\n",
        "# Sort the feature importances and their corresponding feature names\n",
        "sorted_idx = feature_importance.argsort()\n",
        "\n",
        "# Plot horizontal bar chart\n",
        "plt.figure(figsize=(10, 7))\n",
        "plt.barh(features[sorted_idx], feature_importance[sorted_idx], align='center', color='skyblue')\n",
        "plt.xlabel('Importance')\n",
        "plt.title('Feature Importances using Random Forest')\n",
        "plt.show()"
      ]
    },
    {
      "cell_type": "markdown",
      "source": [
        "Insights\n",
        "\n",
        "Based on the feature importance scores, the three top most important features for predicting fraud transactions are:\n",
        "1. MCC: Merchant Category Code And Merchant Name\n",
        "•\tInsight: Certain types of merchants or industries may be more susceptible to fraudulent activities than others. Some businesses are at a higher risk of fraud than others. This can happen because they handle a lot of transactions, sell expensive items, or offer products that are popular in the illegal market. It's important to know which businesses might be more vulnerable to fraud\n",
        "\n",
        "3. Amount: transaction amount\n",
        "•\tInsight: Fraudsters often use the size of a transaction to their advantage. They might make big purchases to get as much as they can before the card is reported stolen. Alternatively, they could make small purchases to check if the card works without attracting attention. So, if you notice transactions that are much bigger or smaller than your usual spending, it's a warning sign."
      ],
      "metadata": {
        "id": "h867uYyMu6y6"
      }
    },
    {
      "cell_type": "markdown",
      "source": [
        "Recommendations\n",
        "1. For MCC and Merchant Name:\n",
        "•\tBusinesses and credit card companies need to pay extra attention to certain types of stores that are more likely to face fraud. They should keep a close watch and put extra safety measures in place for these places. It's also a good idea to educate people about being careful when shopping in these specific areas.\n",
        "2. For Amount:\n",
        "•\tCreate a smart system that spots really high or low transactions compared to what a user usually spends. If something unusual happens, let users know about it"
      ],
      "metadata": {
        "id": "7mF36phBv5HG"
      }
    }
  ],
  "metadata": {
    "colab": {
      "provenance": []
    },
    "kernelspec": {
      "display_name": "Python 3",
      "name": "python3"
    },
    "language_info": {
      "name": "python"
    }
  },
  "nbformat": 4,
  "nbformat_minor": 0
}